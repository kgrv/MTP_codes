{
 "cells": [
  {
   "cell_type": "code",
   "execution_count": 1,
   "metadata": {},
   "outputs": [],
   "source": [
    "import nltk\n",
    "import time\n",
    "import re\n",
    "import numpy as np\n",
    "\n",
    "from sklearn import svm\n",
    "from sklearn.linear_model.logistic import LogisticRegression\n",
    "from sklearn import neighbors, datasets\n",
    "from sklearn.metrics import accuracy_score"
   ]
  },
  {
   "cell_type": "code",
   "execution_count": 5,
   "metadata": {},
   "outputs": [],
   "source": [
    "from sklearn.feature_extraction.text import TfidfVectorizer\n",
    "import pandas as pd\n",
    "vectorizer = TfidfVectorizer(max_df=1.0, max_features=10000,min_df=0, stop_words='english')"
   ]
  },
  {
   "cell_type": "code",
   "execution_count": 6,
   "metadata": {},
   "outputs": [
    {
     "data": {
      "text/html": [
       "<div>\n",
       "<style scoped>\n",
       "    .dataframe tbody tr th:only-of-type {\n",
       "        vertical-align: middle;\n",
       "    }\n",
       "\n",
       "    .dataframe tbody tr th {\n",
       "        vertical-align: top;\n",
       "    }\n",
       "\n",
       "    .dataframe thead th {\n",
       "        text-align: right;\n",
       "    }\n",
       "</style>\n",
       "<table border=\"1\" class=\"dataframe\">\n",
       "  <thead>\n",
       "    <tr style=\"text-align: right;\">\n",
       "      <th></th>\n",
       "      <th>Unnamed: 0</th>\n",
       "      <th>date</th>\n",
       "      <th>article</th>\n",
       "      <th>USE-embeddings</th>\n",
       "      <th>interday</th>\n",
       "      <th>intraday</th>\n",
       "      <th>highlow</th>\n",
       "      <th>upintraday</th>\n",
       "      <th>downintraday</th>\n",
       "      <th>upinterday</th>\n",
       "      <th>downinterday</th>\n",
       "      <th>sentiment</th>\n",
       "      <th>confidence</th>\n",
       "      <th>score</th>\n",
       "      <th>code</th>\n",
       "    </tr>\n",
       "  </thead>\n",
       "  <tbody>\n",
       "    <tr>\n",
       "      <td>0</td>\n",
       "      <td>0</td>\n",
       "      <td>2020-02-03</td>\n",
       "      <td>abbott laboratories became even better buy abb...</td>\n",
       "      <td>[0.010356358252465725, 0.06222594529390335, -0...</td>\n",
       "      <td>-0.640000</td>\n",
       "      <td>-0.720001</td>\n",
       "      <td>1.650002</td>\n",
       "      <td>0</td>\n",
       "      <td>1</td>\n",
       "      <td>0</td>\n",
       "      <td>1</td>\n",
       "      <td>Positive</td>\n",
       "      <td>0.988</td>\n",
       "      <td>0.988</td>\n",
       "      <td>ABT</td>\n",
       "    </tr>\n",
       "    <tr>\n",
       "      <td>1</td>\n",
       "      <td>1</td>\n",
       "      <td>2020-02-04</td>\n",
       "      <td>abbott laboratories nyse:abt announced tuesday...</td>\n",
       "      <td>[-0.03965440392494202, 0.06652882695198059, -0...</td>\n",
       "      <td>-1.090004</td>\n",
       "      <td>0.080001</td>\n",
       "      <td>1.099998</td>\n",
       "      <td>1</td>\n",
       "      <td>0</td>\n",
       "      <td>0</td>\n",
       "      <td>1</td>\n",
       "      <td>Neutral</td>\n",
       "      <td>0.653</td>\n",
       "      <td>0.000</td>\n",
       "      <td>ABT</td>\n",
       "    </tr>\n",
       "    <tr>\n",
       "      <td>2</td>\n",
       "      <td>2</td>\n",
       "      <td>2020-02-05</td>\n",
       "      <td>japan hospital clinical chemistry immunodiagno...</td>\n",
       "      <td>[-0.040585633367300034, 0.09606806188821793, -...</td>\n",
       "      <td>-0.640000</td>\n",
       "      <td>0.689995</td>\n",
       "      <td>1.059998</td>\n",
       "      <td>1</td>\n",
       "      <td>0</td>\n",
       "      <td>0</td>\n",
       "      <td>1</td>\n",
       "      <td>Neutral</td>\n",
       "      <td>0.923</td>\n",
       "      <td>0.000</td>\n",
       "      <td>ABT</td>\n",
       "    </tr>\n",
       "    <tr>\n",
       "      <td>3</td>\n",
       "      <td>3</td>\n",
       "      <td>2020-02-11</td>\n",
       "      <td>united states neurology devices market outlook...</td>\n",
       "      <td>[-0.002584981732070446, 0.03861279413104057, 0...</td>\n",
       "      <td>-0.339996</td>\n",
       "      <td>0.529999</td>\n",
       "      <td>0.880005</td>\n",
       "      <td>1</td>\n",
       "      <td>0</td>\n",
       "      <td>0</td>\n",
       "      <td>1</td>\n",
       "      <td>Neutral</td>\n",
       "      <td>0.947</td>\n",
       "      <td>0.000</td>\n",
       "      <td>ABT</td>\n",
       "    </tr>\n",
       "    <tr>\n",
       "      <td>4</td>\n",
       "      <td>4</td>\n",
       "      <td>2020-02-13</td>\n",
       "      <td>better buy abbott laboratories vs novo nordisk...</td>\n",
       "      <td>[0.013771938160061836, 0.025463275611400604, -...</td>\n",
       "      <td>0.290001</td>\n",
       "      <td>0.180000</td>\n",
       "      <td>1.340004</td>\n",
       "      <td>1</td>\n",
       "      <td>0</td>\n",
       "      <td>1</td>\n",
       "      <td>0</td>\n",
       "      <td>Neutral</td>\n",
       "      <td>0.577</td>\n",
       "      <td>0.000</td>\n",
       "      <td>ABT</td>\n",
       "    </tr>\n",
       "  </tbody>\n",
       "</table>\n",
       "</div>"
      ],
      "text/plain": [
       "   Unnamed: 0       date                                            article  \\\n",
       "0           0 2020-02-03  abbott laboratories became even better buy abb...   \n",
       "1           1 2020-02-04  abbott laboratories nyse:abt announced tuesday...   \n",
       "2           2 2020-02-05  japan hospital clinical chemistry immunodiagno...   \n",
       "3           3 2020-02-11  united states neurology devices market outlook...   \n",
       "4           4 2020-02-13  better buy abbott laboratories vs novo nordisk...   \n",
       "\n",
       "                                      USE-embeddings  interday  intraday  \\\n",
       "0  [0.010356358252465725, 0.06222594529390335, -0... -0.640000 -0.720001   \n",
       "1  [-0.03965440392494202, 0.06652882695198059, -0... -1.090004  0.080001   \n",
       "2  [-0.040585633367300034, 0.09606806188821793, -... -0.640000  0.689995   \n",
       "3  [-0.002584981732070446, 0.03861279413104057, 0... -0.339996  0.529999   \n",
       "4  [0.013771938160061836, 0.025463275611400604, -...  0.290001  0.180000   \n",
       "\n",
       "    highlow  upintraday  downintraday  upinterday  downinterday sentiment  \\\n",
       "0  1.650002           0             1           0             1  Positive   \n",
       "1  1.099998           1             0           0             1   Neutral   \n",
       "2  1.059998           1             0           0             1   Neutral   \n",
       "3  0.880005           1             0           0             1   Neutral   \n",
       "4  1.340004           1             0           1             0   Neutral   \n",
       "\n",
       "   confidence  score code  \n",
       "0       0.988  0.988  ABT  \n",
       "1       0.653  0.000  ABT  \n",
       "2       0.923  0.000  ABT  \n",
       "3       0.947  0.000  ABT  \n",
       "4       0.577  0.000  ABT  "
      ]
     },
     "execution_count": 6,
     "metadata": {},
     "output_type": "execute_result"
    }
   ],
   "source": [
    "dat=pd.read_excel('data/trainingFolder/master_data_embeddings.xlsx')\n",
    "dat.head()"
   ]
  },
  {
   "cell_type": "code",
   "execution_count": 8,
   "metadata": {},
   "outputs": [],
   "source": [
    "vectorizer.fit(dat['article'])\n",
    "X_train = vectorizer.transform(dat['article'])"
   ]
  },
  {
   "cell_type": "code",
   "execution_count": 15,
   "metadata": {},
   "outputs": [
    {
     "data": {
      "text/plain": [
       "array([0.23636192, 0.17308742, 0.51132137, 0.32450324, 0.37743758,\n",
       "       0.1443315 , 0.36649749, 0.49981074])"
      ]
     },
     "execution_count": 15,
     "metadata": {},
     "output_type": "execute_result"
    }
   ],
   "source": [
    "X_train[0].data"
   ]
  },
  {
   "cell_type": "code",
   "execution_count": 22,
   "metadata": {},
   "outputs": [
    {
     "data": {
      "text/plain": [
       "0      abbott laboratories became even better buy abb...\n",
       "1      abbott laboratories nyse:abt announced tuesday...\n",
       "2      japan hospital clinical chemistry immunodiagno...\n",
       "3      united states neurology devices market outlook...\n",
       "4      better buy abbott laboratories vs novo nordisk...\n",
       "                             ...                        \n",
       "873    cash dividend way exxon mobil exxon mobil trad...\n",
       "874    exxon mobil corp xom.n chevr… chars exxon mobi...\n",
       "875    recently reported period, short sellers favore...\n",
       "876    exxon mobil top short oil drops exxon mobil, h...\n",
       "877    industry beat consensus expectations quarter, ...\n",
       "Name: article, Length: 878, dtype: object"
      ]
     },
     "execution_count": 22,
     "metadata": {},
     "output_type": "execute_result"
    }
   ],
   "source": [
    "dat['article']"
   ]
  },
  {
   "cell_type": "code",
   "execution_count": null,
   "metadata": {},
   "outputs": [],
   "source": []
  },
  {
   "cell_type": "code",
   "execution_count": null,
   "metadata": {},
   "outputs": [],
   "source": []
  },
  {
   "cell_type": "code",
   "execution_count": null,
   "metadata": {},
   "outputs": [],
   "source": []
  },
  {
   "cell_type": "code",
   "execution_count": null,
   "metadata": {},
   "outputs": [],
   "source": [
    "import tensorflow as tf\n",
    "import tensorflow_hub as hub\n",
    "module_url = \"https://tfhub.dev/google/nnlm-en-dim128/2\"\n",
    "embed = hub.KerasLayer(module_url)\n",
    "embeddings = embed([\"My name is Kumar Gaurav and I am an engineer.\", \"fuckoff\",\n",
    "                  \"projects.grv.codes/coronavirus\"])\n",
    "print(embeddings.shape)  #(3,128)\n",
    "print(embeddings[0])"
   ]
  }
 ],
 "metadata": {
  "kernelspec": {
   "display_name": "Python 3",
   "language": "python",
   "name": "python3"
  },
  "language_info": {
   "codemirror_mode": {
    "name": "ipython",
    "version": 3
   },
   "file_extension": ".py",
   "mimetype": "text/x-python",
   "name": "python",
   "nbconvert_exporter": "python",
   "pygments_lexer": "ipython3",
   "version": "3.7.4"
  }
 },
 "nbformat": 4,
 "nbformat_minor": 2
}
