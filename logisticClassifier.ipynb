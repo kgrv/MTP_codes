{
 "cells": [
  {
   "cell_type": "code",
   "execution_count": 25,
   "metadata": {},
   "outputs": [],
   "source": [
    "import pandas as pd\n",
    "import nltk\n",
    "import time\n",
    "import re\n",
    "import numpy as np\n",
    "\n",
    "from sklearn import svm\n",
    "from sklearn.feature_extraction.text import TfidfVectorizer\n",
    "from sklearn.linear_model.logistic import LogisticRegression\n",
    "from sklearn import neighbors, datasets\n",
    "from sklearn.metrics import accuracy_score\n",
    "from sklearn.metrics import confusion_matrix"
   ]
  },
  {
   "cell_type": "code",
   "execution_count": 9,
   "metadata": {},
   "outputs": [],
   "source": [
    "def clean_fields(input_data):\n",
    "    desc_str =\"\"\n",
    "    for j in range(len(input_data)):\n",
    "        PD = input_data[j].lower() # change everything to lowercase\n",
    "        PD = re.sub('[^A-Za-z0-9\\s]+', ' ', PD) #remove special characters\n",
    "        PD = re.sub(\"\\d+\\.?\\d*\", \"\", PD) # remove numbers\n",
    "        PD = re.sub(r'[^\\x00-\\x7F]+',' ', PD) # remove ascii\n",
    "        ptext = nltk.Text(PD.split())\n",
    "        ptextclean2 = [w for w in ptext if not w in nltk.corpus.stopwords.words('english')]\n",
    "        desc_str +=  (\" \".join(ptextclean2)+\"\\n\" )\n",
    "    return(desc_str.strip(\"\\n\"))"
   ]
  },
  {
   "cell_type": "code",
   "execution_count": 7,
   "metadata": {},
   "outputs": [],
   "source": [
    "test_data=pd.read_excel('data/trainingFolder/master/testfile.xlsx')\n",
    "train_data=pd.read_excel('data/trainingFolder/master/master_data.xlsx')"
   ]
  },
  {
   "cell_type": "code",
   "execution_count": 10,
   "metadata": {},
   "outputs": [],
   "source": [
    "desc_test=clean_fields(test_data['article'])\n",
    "desc_train = clean_fields(train_data['article'])\n",
    "train_buffer = desc_train.split(\"\\n\")\n",
    "test_buffer=desc_test.split(\"\\n\")"
   ]
  },
  {
   "cell_type": "code",
   "execution_count": 11,
   "metadata": {},
   "outputs": [],
   "source": [
    "test_lbl=test_data['upintraday']\n",
    "train_lbl=train_data['upintraday']"
   ]
  },
  {
   "cell_type": "code",
   "execution_count": 13,
   "metadata": {},
   "outputs": [],
   "source": [
    "vectorizer = TfidfVectorizer(max_df=1.0, max_features=10000,min_df=0, stop_words='english')"
   ]
  },
  {
   "cell_type": "code",
   "execution_count": 14,
   "metadata": {},
   "outputs": [],
   "source": [
    "vectorizer.fit( train_buffer+ test_buffer)\n",
    "\n",
    "X_train = vectorizer.transform(train_buffer)\n",
    "X_test = vectorizer.transform(test_buffer)"
   ]
  },
  {
   "cell_type": "code",
   "execution_count": 15,
   "metadata": {},
   "outputs": [],
   "source": [
    "clf=LogisticRegression()"
   ]
  },
  {
   "cell_type": "code",
   "execution_count": 17,
   "metadata": {},
   "outputs": [
    {
     "name": "stdout",
     "output_type": "stream",
     "text": [
      "Accuracy L2  : 0.864\n"
     ]
    }
   ],
   "source": [
    "clf.fit(X_train, train_lbl)\n",
    "XP_train =  clf.predict(X_train)\n",
    "XProb_train = clf.predict_proba(X_train)\n",
    "print('Accuracy L2  : {:.3f}'.format(accuracy_score(train_lbl, XP_train)))\n",
    "XP = clf.predict(X_test)\n",
    "XProb = clf.predict_proba(X_test)"
   ]
  },
  {
   "cell_type": "code",
   "execution_count": 28,
   "metadata": {},
   "outputs": [
    {
     "data": {
      "text/plain": [
       "array([33,  3, 18,  7], dtype=int64)"
      ]
     },
     "execution_count": 28,
     "metadata": {},
     "output_type": "execute_result"
    }
   ],
   "source": [
    "confusion_matrix(test_lbl, XP, labels=None, sample_weight=None).ravel()"
   ]
  },
  {
   "cell_type": "code",
   "execution_count": 29,
   "metadata": {},
   "outputs": [
    {
     "data": {
      "text/plain": [
       "61"
      ]
     },
     "execution_count": 29,
     "metadata": {},
     "output_type": "execute_result"
    }
   ],
   "source": [
    "sum(confusion_matrix(test_lbl, XP, labels=None, sample_weight=None).ravel())"
   ]
  },
  {
   "cell_type": "code",
   "execution_count": 30,
   "metadata": {},
   "outputs": [
    {
     "data": {
      "text/plain": [
       "0.6557377049180327"
      ]
     },
     "execution_count": 30,
     "metadata": {},
     "output_type": "execute_result"
    }
   ],
   "source": [
    "40/61"
   ]
  },
  {
   "cell_type": "code",
   "execution_count": 21,
   "metadata": {},
   "outputs": [
    {
     "data": {
      "text/plain": [
       "array([0, 0, 1, 1, 1, 1, 1, 1, 0, 0, 0, 1, 0, 0, 1, 0, 0, 0, 0, 1, 1, 1,\n",
       "       1, 0, 1, 0, 1, 1, 0, 1, 0, 1, 0, 0, 1, 0, 0, 0, 0, 0, 0, 0, 0, 0,\n",
       "       0, 0, 0, 0, 0, 0, 0, 1, 1, 1, 0, 1, 1, 0, 1, 0, 1], dtype=int64)"
      ]
     },
     "execution_count": 21,
     "metadata": {},
     "output_type": "execute_result"
    }
   ],
   "source": [
    "test_data['upintraday'].values"
   ]
  }
 ],
 "metadata": {
  "kernelspec": {
   "display_name": "Python 3",
   "language": "python",
   "name": "python3"
  },
  "language_info": {
   "codemirror_mode": {
    "name": "ipython",
    "version": 3
   },
   "file_extension": ".py",
   "mimetype": "text/x-python",
   "name": "python",
   "nbconvert_exporter": "python",
   "pygments_lexer": "ipython3",
   "version": "3.7.4"
  }
 },
 "nbformat": 4,
 "nbformat_minor": 2
}
